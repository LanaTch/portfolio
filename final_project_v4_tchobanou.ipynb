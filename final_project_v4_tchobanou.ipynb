{
 "cells": [
  {
   "cell_type": "markdown",
   "source": [
    "# Проект: вариант 4\n",
    "\n",
    "Представьте, что вы аналитик в компании, которая разрабатывает приложение для обработки и оформления фотографий в формате Stories (например, для дальнейшего экспорта в Instagram Stories). Был проведен A/B тест: тестовой группе предлагалась новая модель оплаты коллекций шаблонов, контрольной – старая механика. Ваша основная задача: проанализировать итоги эксперимента и решить, нужно ли выкатывать новую модель на остальных пользователей.\n",
    "\n",
    "В ходе отчета обоснуйте выбор метрик, на которые вы обращаете внимание. Если различия есть, то объясните, с чем они могут быть связаны и являются ли значимыми.\n",
    "\n",
    "_Данные:_\n",
    "\n",
    "    active_users – информация о пользователях, которые посещали приложение во время эксперимента.\n",
    "    groups – разбивка пользователей на контрольную (А) и тестовую (В) группы.\n",
    "    purchases – данные о транзакциях (оплатах) пользователей приложения во время эксперимента"
   ],
   "metadata": {
    "collapsed": false
   }
  },
  {
   "cell_type": "markdown",
   "source": [
    " ## Гипотеза.\n",
    " Новая модель оплаты коллекций шаблонов принесет больше прибыли\n",
    "\n",
    "## Изменения в тестовой группе\n",
    "В тестовой группе будем предлагать новую систему оплаты\n",
    "\n",
    "## Метрики\n",
    "- конверсия в покупку активных юзеров CR,\n",
    "- средний доход на юзера ARPU\n",
    "- средний доход на платящего юзера ARPPU\n",
    "- средний чек\n"
   ],
   "metadata": {
    "collapsed": false,
    "pycharm": {
     "name": "#%% md\n"
    }
   }
  },
  {
   "cell_type": "code",
   "execution_count": 1,
   "outputs": [],
   "source": [
    "import numpy as np"
   ],
   "metadata": {
    "collapsed": false,
    "pycharm": {
     "name": "#%%\n"
    }
   }
  },
  {
   "cell_type": "code",
   "execution_count": 2,
   "outputs": [],
   "source": [
    "from scipy.stats import chi2_contingency, mannwhitneyu"
   ],
   "metadata": {
    "collapsed": false,
    "pycharm": {
     "name": "#%%\n"
    }
   }
  },
  {
   "cell_type": "code",
   "execution_count": 3,
   "outputs": [],
   "source": [
    "import seaborn as sns"
   ],
   "metadata": {
    "collapsed": false,
    "pycharm": {
     "name": "#%%\n"
    }
   }
  },
  {
   "cell_type": "code",
   "execution_count": 4,
   "outputs": [],
   "source": [
    "import pandas as pd"
   ],
   "metadata": {
    "collapsed": false,
    "pycharm": {
     "name": "#%%\n"
    }
   }
  },
  {
   "cell_type": "code",
   "execution_count": 5,
   "outputs": [],
   "source": [
    "import matplotlib.pyplot as plt"
   ],
   "metadata": {
    "collapsed": false,
    "pycharm": {
     "name": "#%%\n"
    }
   }
  },
  {
   "cell_type": "code",
   "execution_count": 6,
   "outputs": [],
   "source": [
    "import warnings\n",
    "warnings.filterwarnings('ignore')"
   ],
   "metadata": {
    "collapsed": false,
    "pycharm": {
     "name": "#%%\n"
    }
   }
  },
  {
   "cell_type": "code",
   "execution_count": 7,
   "outputs": [
    {
     "data": {
      "text/plain": "      user_id country platform     sex\n0        8029  Russia      ios    male\n1        1735  Sweden      ios    male\n2        7697  Russia  android    male\n3        1421  Sweden  android  female\n4        1704  Russia      ios    male\n...       ...     ...      ...     ...\n8336     2417  Sweden      ios  female\n8337     3755  Russia      ios    male\n8338     4594  Sweden  android  female\n8339     7430  Sweden      ios  female\n8340     2460  Russia  android  female\n\n[8341 rows x 4 columns]",
      "text/html": "<div>\n<style scoped>\n    .dataframe tbody tr th:only-of-type {\n        vertical-align: middle;\n    }\n\n    .dataframe tbody tr th {\n        vertical-align: top;\n    }\n\n    .dataframe thead th {\n        text-align: right;\n    }\n</style>\n<table border=\"1\" class=\"dataframe\">\n  <thead>\n    <tr style=\"text-align: right;\">\n      <th></th>\n      <th>user_id</th>\n      <th>country</th>\n      <th>platform</th>\n      <th>sex</th>\n    </tr>\n  </thead>\n  <tbody>\n    <tr>\n      <th>0</th>\n      <td>8029</td>\n      <td>Russia</td>\n      <td>ios</td>\n      <td>male</td>\n    </tr>\n    <tr>\n      <th>1</th>\n      <td>1735</td>\n      <td>Sweden</td>\n      <td>ios</td>\n      <td>male</td>\n    </tr>\n    <tr>\n      <th>2</th>\n      <td>7697</td>\n      <td>Russia</td>\n      <td>android</td>\n      <td>male</td>\n    </tr>\n    <tr>\n      <th>3</th>\n      <td>1421</td>\n      <td>Sweden</td>\n      <td>android</td>\n      <td>female</td>\n    </tr>\n    <tr>\n      <th>4</th>\n      <td>1704</td>\n      <td>Russia</td>\n      <td>ios</td>\n      <td>male</td>\n    </tr>\n    <tr>\n      <th>...</th>\n      <td>...</td>\n      <td>...</td>\n      <td>...</td>\n      <td>...</td>\n    </tr>\n    <tr>\n      <th>8336</th>\n      <td>2417</td>\n      <td>Sweden</td>\n      <td>ios</td>\n      <td>female</td>\n    </tr>\n    <tr>\n      <th>8337</th>\n      <td>3755</td>\n      <td>Russia</td>\n      <td>ios</td>\n      <td>male</td>\n    </tr>\n    <tr>\n      <th>8338</th>\n      <td>4594</td>\n      <td>Sweden</td>\n      <td>android</td>\n      <td>female</td>\n    </tr>\n    <tr>\n      <th>8339</th>\n      <td>7430</td>\n      <td>Sweden</td>\n      <td>ios</td>\n      <td>female</td>\n    </tr>\n    <tr>\n      <th>8340</th>\n      <td>2460</td>\n      <td>Russia</td>\n      <td>android</td>\n      <td>female</td>\n    </tr>\n  </tbody>\n</table>\n<p>8341 rows × 4 columns</p>\n</div>"
     },
     "execution_count": 7,
     "metadata": {},
     "output_type": "execute_result"
    }
   ],
   "source": [
    "df_active_users = pd.read_csv('active_users.csv')\n",
    "df_active_users"
   ],
   "metadata": {
    "collapsed": false,
    "pycharm": {
     "name": "#%%\n"
    }
   }
  },
  {
   "cell_type": "code",
   "execution_count": 8,
   "outputs": [
    {
     "data": {
      "text/plain": "(8341, 4)"
     },
     "execution_count": 8,
     "metadata": {},
     "output_type": "execute_result"
    }
   ],
   "source": [
    "df_active_users.shape"
   ],
   "metadata": {
    "collapsed": false,
    "pycharm": {
     "name": "#%%\n"
    }
   }
  },
  {
   "cell_type": "code",
   "execution_count": 9,
   "outputs": [
    {
     "data": {
      "text/plain": "8341"
     },
     "execution_count": 9,
     "metadata": {},
     "output_type": "execute_result"
    }
   ],
   "source": [
    "df_active_users['user_id'].nunique()"
   ],
   "metadata": {
    "collapsed": false,
    "pycharm": {
     "name": "#%%\n"
    }
   }
  },
  {
   "cell_type": "code",
   "execution_count": 10,
   "outputs": [
    {
     "data": {
      "text/plain": "   user_id group\n0     9149     B\n1     9150     B\n2     9151     A\n3     9152     B\n4     9153     B",
      "text/html": "<div>\n<style scoped>\n    .dataframe tbody tr th:only-of-type {\n        vertical-align: middle;\n    }\n\n    .dataframe tbody tr th {\n        vertical-align: top;\n    }\n\n    .dataframe thead th {\n        text-align: right;\n    }\n</style>\n<table border=\"1\" class=\"dataframe\">\n  <thead>\n    <tr style=\"text-align: right;\">\n      <th></th>\n      <th>user_id</th>\n      <th>group</th>\n    </tr>\n  </thead>\n  <tbody>\n    <tr>\n      <th>0</th>\n      <td>9149</td>\n      <td>B</td>\n    </tr>\n    <tr>\n      <th>1</th>\n      <td>9150</td>\n      <td>B</td>\n    </tr>\n    <tr>\n      <th>2</th>\n      <td>9151</td>\n      <td>A</td>\n    </tr>\n    <tr>\n      <th>3</th>\n      <td>9152</td>\n      <td>B</td>\n    </tr>\n    <tr>\n      <th>4</th>\n      <td>9153</td>\n      <td>B</td>\n    </tr>\n  </tbody>\n</table>\n</div>"
     },
     "execution_count": 10,
     "metadata": {},
     "output_type": "execute_result"
    }
   ],
   "source": [
    "df_groups = pd.read_csv('groups.csv')\n",
    "df_groups.head()"
   ],
   "metadata": {
    "collapsed": false,
    "pycharm": {
     "name": "#%%\n"
    }
   }
  },
  {
   "cell_type": "code",
   "execution_count": 11,
   "outputs": [
    {
     "data": {
      "text/plain": "   user_id  revenue\n0     4412   1000.0\n1     9000    701.0\n2     9001    700.0\n3     9002    702.0\n4     5790   1002.0",
      "text/html": "<div>\n<style scoped>\n    .dataframe tbody tr th:only-of-type {\n        vertical-align: middle;\n    }\n\n    .dataframe tbody tr th {\n        vertical-align: top;\n    }\n\n    .dataframe thead th {\n        text-align: right;\n    }\n</style>\n<table border=\"1\" class=\"dataframe\">\n  <thead>\n    <tr style=\"text-align: right;\">\n      <th></th>\n      <th>user_id</th>\n      <th>revenue</th>\n    </tr>\n  </thead>\n  <tbody>\n    <tr>\n      <th>0</th>\n      <td>4412</td>\n      <td>1000.0</td>\n    </tr>\n    <tr>\n      <th>1</th>\n      <td>9000</td>\n      <td>701.0</td>\n    </tr>\n    <tr>\n      <th>2</th>\n      <td>9001</td>\n      <td>700.0</td>\n    </tr>\n    <tr>\n      <th>3</th>\n      <td>9002</td>\n      <td>702.0</td>\n    </tr>\n    <tr>\n      <th>4</th>\n      <td>5790</td>\n      <td>1002.0</td>\n    </tr>\n  </tbody>\n</table>\n</div>"
     },
     "execution_count": 11,
     "metadata": {},
     "output_type": "execute_result"
    }
   ],
   "source": [
    "df_purchase = pd.read_csv('purchases.csv')\n",
    "df_purchase.head()"
   ],
   "metadata": {
    "collapsed": false,
    "pycharm": {
     "name": "#%%\n"
    }
   }
  },
  {
   "cell_type": "code",
   "source": [
    "df_groups.shape"
   ],
   "metadata": {
    "collapsed": false,
    "pycharm": {
     "name": "#%%\n"
    }
   },
   "execution_count": 12,
   "outputs": [
    {
     "data": {
      "text/plain": "(74576, 2)"
     },
     "execution_count": 12,
     "metadata": {},
     "output_type": "execute_result"
    }
   ]
  },
  {
   "cell_type": "code",
   "execution_count": 13,
   "outputs": [
    {
     "data": {
      "text/plain": "74576"
     },
     "execution_count": 13,
     "metadata": {},
     "output_type": "execute_result"
    }
   ],
   "source": [
    "df_groups['user_id'].nunique()"
   ],
   "metadata": {
    "collapsed": false,
    "pycharm": {
     "name": "#%%\n"
    }
   }
  },
  {
   "cell_type": "markdown",
   "source": [
    "проверим что у нас с пользователями: все ли платившие активные и участвовали в эксперименте"
   ],
   "metadata": {
    "collapsed": false,
    "pycharm": {
     "name": "#%% md\n"
    }
   }
  },
  {
   "cell_type": "code",
   "execution_count": 14,
   "outputs": [
    {
     "data": {
      "text/plain": "149"
     },
     "execution_count": 14,
     "metadata": {},
     "output_type": "execute_result"
    }
   ],
   "source": [
    "df_purchase.shape[0] - df_purchase['user_id'].isin(df_active_users['user_id']).sum()"
   ],
   "metadata": {
    "collapsed": false,
    "pycharm": {
     "name": "#%%\n"
    }
   }
  },
  {
   "cell_type": "markdown",
   "source": [
    "149 пользователей, совершивших покупку, не являются активными, сохраним их в отдельную выборку"
   ],
   "metadata": {
    "collapsed": false,
    "pycharm": {
     "name": "#%% md\n"
    }
   }
  },
  {
   "cell_type": "code",
   "execution_count": 15,
   "outputs": [
    {
     "data": {
      "text/plain": "(149, 2)"
     },
     "execution_count": 15,
     "metadata": {},
     "output_type": "execute_result"
    }
   ],
   "source": [
    "df_users_149 = df_purchase.loc[~df_purchase['user_id'].isin(df_active_users['user_id'])]\n",
    "df_users_149.shape"
   ],
   "metadata": {
    "collapsed": false,
    "pycharm": {
     "name": "#%%\n"
    }
   }
  },
  {
   "cell_type": "code",
   "execution_count": 16,
   "outputs": [
    {
     "data": {
      "text/plain": "0"
     },
     "execution_count": 16,
     "metadata": {},
     "output_type": "execute_result"
    }
   ],
   "source": [
    "df_purchase.shape[0] - df_purchase['user_id'].isin(df_groups['user_id']).sum()"
   ],
   "metadata": {
    "collapsed": false,
    "pycharm": {
     "name": "#%%\n"
    }
   }
  },
  {
   "cell_type": "markdown",
   "source": [
    "все пользователи, которые совершили покупку, участвовали в эксперименте"
   ],
   "metadata": {
    "collapsed": false,
    "pycharm": {
     "name": "#%% md\n"
    }
   }
  },
  {
   "cell_type": "code",
   "execution_count": 17,
   "outputs": [
    {
     "data": {
      "text/plain": "0.11184563398412357"
     },
     "execution_count": 17,
     "metadata": {},
     "output_type": "execute_result"
    }
   ],
   "source": [
    "df_active_users.shape[0] / df_groups.shape[0]"
   ],
   "metadata": {
    "collapsed": false,
    "pycharm": {
     "name": "#%%\n"
    }
   }
  },
  {
   "cell_type": "markdown",
   "source": [
    "активных пользователей всего 11% от общего числа пользователей, участвующих в A/B тесте"
   ],
   "metadata": {
    "collapsed": false
   }
  },
  {
   "cell_type": "code",
   "execution_count": 18,
   "outputs": [
    {
     "data": {
      "text/plain": "0.046996762978060186"
     },
     "execution_count": 18,
     "metadata": {},
     "output_type": "execute_result"
    }
   ],
   "source": [
    "(df_purchase.shape[0] - 149) / df_active_users.shape[0]"
   ],
   "metadata": {
    "collapsed": false,
    "pycharm": {
     "name": "#%%\n"
    }
   }
  },
  {
   "cell_type": "markdown",
   "source": [
    "и только 0.5% активных совершили покупку в период эксперимента"
   ],
   "metadata": {
    "collapsed": false
   }
  },
  {
   "cell_type": "markdown",
   "source": [
    "соединим все данные по пользвателям из эксперимента в один датафрейм"
   ],
   "metadata": {
    "collapsed": false,
    "pycharm": {
     "name": "#%% md\n"
    }
   }
  },
  {
   "cell_type": "code",
   "execution_count": 19,
   "outputs": [
    {
     "data": {
      "text/plain": "(74576, 5)"
     },
     "execution_count": 19,
     "metadata": {},
     "output_type": "execute_result"
    }
   ],
   "source": [
    "df = df_groups.merge(df_active_users, on='user_id', how='left')\n",
    "df.shape"
   ],
   "metadata": {
    "collapsed": false,
    "pycharm": {
     "name": "#%%\n"
    }
   }
  },
  {
   "cell_type": "code",
   "execution_count": 20,
   "outputs": [
    {
     "data": {
      "text/plain": "(74576, 6)"
     },
     "execution_count": 20,
     "metadata": {},
     "output_type": "execute_result"
    }
   ],
   "source": [
    "df = df.merge(df_purchase, on='user_id', how='left')\n",
    "df.shape"
   ],
   "metadata": {
    "collapsed": false,
    "pycharm": {
     "name": "#%%\n"
    }
   }
  },
  {
   "cell_type": "markdown",
   "source": [
    "заменим отсутствующие значения в столбце revenue на 0, а в столбцах country, platform, sex на \"нет данных\""
   ],
   "metadata": {
    "collapsed": false,
    "pycharm": {
     "name": "#%% md\n"
    }
   }
  },
  {
   "cell_type": "code",
   "execution_count": 21,
   "outputs": [],
   "source": [
    "df['revenue'].fillna(0, inplace=True)"
   ],
   "metadata": {
    "collapsed": false,
    "pycharm": {
     "name": "#%%\n"
    }
   }
  },
  {
   "cell_type": "code",
   "execution_count": 22,
   "outputs": [
    {
     "data": {
      "text/plain": "   user_id group     country    platform         sex  revenue\n0     9149     B  нет данных  нет данных  нет данных      0.0\n1     9150     B  нет данных  нет данных  нет данных      0.0\n2     9151     A  нет данных  нет данных  нет данных      0.0\n3     9152     B  нет данных  нет данных  нет данных      0.0\n4     9153     B  нет данных  нет данных  нет данных      0.0",
      "text/html": "<div>\n<style scoped>\n    .dataframe tbody tr th:only-of-type {\n        vertical-align: middle;\n    }\n\n    .dataframe tbody tr th {\n        vertical-align: top;\n    }\n\n    .dataframe thead th {\n        text-align: right;\n    }\n</style>\n<table border=\"1\" class=\"dataframe\">\n  <thead>\n    <tr style=\"text-align: right;\">\n      <th></th>\n      <th>user_id</th>\n      <th>group</th>\n      <th>country</th>\n      <th>platform</th>\n      <th>sex</th>\n      <th>revenue</th>\n    </tr>\n  </thead>\n  <tbody>\n    <tr>\n      <th>0</th>\n      <td>9149</td>\n      <td>B</td>\n      <td>нет данных</td>\n      <td>нет данных</td>\n      <td>нет данных</td>\n      <td>0.0</td>\n    </tr>\n    <tr>\n      <th>1</th>\n      <td>9150</td>\n      <td>B</td>\n      <td>нет данных</td>\n      <td>нет данных</td>\n      <td>нет данных</td>\n      <td>0.0</td>\n    </tr>\n    <tr>\n      <th>2</th>\n      <td>9151</td>\n      <td>A</td>\n      <td>нет данных</td>\n      <td>нет данных</td>\n      <td>нет данных</td>\n      <td>0.0</td>\n    </tr>\n    <tr>\n      <th>3</th>\n      <td>9152</td>\n      <td>B</td>\n      <td>нет данных</td>\n      <td>нет данных</td>\n      <td>нет данных</td>\n      <td>0.0</td>\n    </tr>\n    <tr>\n      <th>4</th>\n      <td>9153</td>\n      <td>B</td>\n      <td>нет данных</td>\n      <td>нет данных</td>\n      <td>нет данных</td>\n      <td>0.0</td>\n    </tr>\n  </tbody>\n</table>\n</div>"
     },
     "execution_count": 22,
     "metadata": {},
     "output_type": "execute_result"
    }
   ],
   "source": [
    "df.fillna('нет данных', inplace=True)\n",
    "df.head()"
   ],
   "metadata": {
    "collapsed": false,
    "pycharm": {
     "name": "#%%\n"
    }
   }
  },
  {
   "cell_type": "code",
   "execution_count": 23,
   "outputs": [
    {
     "data": {
      "text/plain": "B    0.80298\nA    0.19702\nName: group, dtype: float64"
     },
     "execution_count": 23,
     "metadata": {},
     "output_type": "execute_result"
    }
   ],
   "source": [
    "df['group'].value_counts(normalize=True)"
   ],
   "metadata": {
    "collapsed": false,
    "pycharm": {
     "name": "#%%\n"
    }
   }
  },
  {
   "cell_type": "markdown",
   "source": [
    "соотношение тестовой и контролькой группы 80/20"
   ],
   "metadata": {
    "collapsed": false
   }
  },
  {
   "cell_type": "code",
   "execution_count": 24,
   "outputs": [],
   "source": [
    "df_active_users = df_active_users.merge(df_groups, on='user_id')"
   ],
   "metadata": {
    "collapsed": false,
    "pycharm": {
     "name": "#%%\n"
    }
   }
  },
  {
   "cell_type": "markdown",
   "source": [
    "посмотрим на качество разбиения на группы (на основе данных об активных пользователях)"
   ],
   "metadata": {
    "collapsed": false,
    "pycharm": {
     "name": "#%% md\n"
    }
   }
  },
  {
   "cell_type": "markdown",
   "source": [
    "группа - платформа"
   ],
   "metadata": {
    "collapsed": false,
    "pycharm": {
     "name": "#%% md\n"
    }
   }
  },
  {
   "cell_type": "code",
   "execution_count": 25,
   "outputs": [],
   "source": [
    "df_platform_group = df_active_users[['group', 'platform']]"
   ],
   "metadata": {
    "collapsed": false,
    "pycharm": {
     "name": "#%%\n"
    }
   }
  },
  {
   "cell_type": "code",
   "execution_count": 26,
   "outputs": [
    {
     "data": {
      "text/plain": "group       A     B\nplatform           \nandroid   834  3787\nios       704  3016",
      "text/html": "<div>\n<style scoped>\n    .dataframe tbody tr th:only-of-type {\n        vertical-align: middle;\n    }\n\n    .dataframe tbody tr th {\n        vertical-align: top;\n    }\n\n    .dataframe thead th {\n        text-align: right;\n    }\n</style>\n<table border=\"1\" class=\"dataframe\">\n  <thead>\n    <tr style=\"text-align: right;\">\n      <th>group</th>\n      <th>A</th>\n      <th>B</th>\n    </tr>\n    <tr>\n      <th>platform</th>\n      <th></th>\n      <th></th>\n    </tr>\n  </thead>\n  <tbody>\n    <tr>\n      <th>android</th>\n      <td>834</td>\n      <td>3787</td>\n    </tr>\n    <tr>\n      <th>ios</th>\n      <td>704</td>\n      <td>3016</td>\n    </tr>\n  </tbody>\n</table>\n</div>"
     },
     "execution_count": 26,
     "metadata": {},
     "output_type": "execute_result"
    }
   ],
   "source": [
    "crosst_group_platform = pd.crosstab(df_platform_group.platform, df_platform_group.group)\n",
    "crosst_group_platform"
   ],
   "metadata": {
    "collapsed": false,
    "pycharm": {
     "name": "#%%\n"
    }
   }
  },
  {
   "cell_type": "code",
   "execution_count": 27,
   "outputs": [],
   "source": [
    "value = np.array([crosst_group_platform.iloc[0].values,\n",
    "                  crosst_group_platform.iloc[1].values])"
   ],
   "metadata": {
    "collapsed": false,
    "pycharm": {
     "name": "#%%\n"
    }
   }
  },
  {
   "cell_type": "code",
   "execution_count": 28,
   "outputs": [],
   "source": [
    "_, p_value, _, _ = chi2_contingency(value)"
   ],
   "metadata": {
    "collapsed": false,
    "pycharm": {
     "name": "#%%\n"
    }
   }
  },
  {
   "cell_type": "code",
   "execution_count": 29,
   "outputs": [
    {
     "data": {
      "text/plain": "0.31833776540573483"
     },
     "execution_count": 29,
     "metadata": {},
     "output_type": "execute_result"
    }
   ],
   "source": [
    "p_value"
   ],
   "metadata": {
    "collapsed": false,
    "pycharm": {
     "name": "#%%\n"
    }
   }
  },
  {
   "cell_type": "markdown",
   "source": [
    "Поскольку значение p_value > 0,05, мы не можем опровергнуть нулевую гипотезу и предположим, что переменные не зависят друг от друга"
   ],
   "metadata": {
    "collapsed": false
   }
  },
  {
   "cell_type": "markdown",
   "source": [
    "группа - пол"
   ],
   "metadata": {
    "collapsed": false,
    "pycharm": {
     "name": "#%% md\n"
    }
   }
  },
  {
   "cell_type": "code",
   "execution_count": 30,
   "outputs": [],
   "source": [
    "df_sex_group = df_active_users[['group', 'sex']]"
   ],
   "metadata": {
    "collapsed": false,
    "pycharm": {
     "name": "#%%\n"
    }
   }
  },
  {
   "cell_type": "code",
   "execution_count": 31,
   "outputs": [
    {
     "data": {
      "text/plain": "group     A     B\nsex              \nfemale  753  3392\nmale    785  3411",
      "text/html": "<div>\n<style scoped>\n    .dataframe tbody tr th:only-of-type {\n        vertical-align: middle;\n    }\n\n    .dataframe tbody tr th {\n        vertical-align: top;\n    }\n\n    .dataframe thead th {\n        text-align: right;\n    }\n</style>\n<table border=\"1\" class=\"dataframe\">\n  <thead>\n    <tr style=\"text-align: right;\">\n      <th>group</th>\n      <th>A</th>\n      <th>B</th>\n    </tr>\n    <tr>\n      <th>sex</th>\n      <th></th>\n      <th></th>\n    </tr>\n  </thead>\n  <tbody>\n    <tr>\n      <th>female</th>\n      <td>753</td>\n      <td>3392</td>\n    </tr>\n    <tr>\n      <th>male</th>\n      <td>785</td>\n      <td>3411</td>\n    </tr>\n  </tbody>\n</table>\n</div>"
     },
     "execution_count": 31,
     "metadata": {},
     "output_type": "execute_result"
    }
   ],
   "source": [
    "crosst_group_sex = pd.crosstab(df_sex_group.sex, df_sex_group.group)\n",
    "crosst_group_sex"
   ],
   "metadata": {
    "collapsed": false,
    "pycharm": {
     "name": "#%%\n"
    }
   }
  },
  {
   "cell_type": "code",
   "execution_count": 32,
   "outputs": [],
   "source": [
    "value = np.array([crosst_group_sex.iloc[0].values,\n",
    "                  crosst_group_sex.iloc[1].values])"
   ],
   "metadata": {
    "collapsed": false,
    "pycharm": {
     "name": "#%%\n"
    }
   }
  },
  {
   "cell_type": "code",
   "execution_count": 33,
   "outputs": [],
   "source": [
    "_, p_value, _, _ = chi2_contingency(value)"
   ],
   "metadata": {
    "collapsed": false,
    "pycharm": {
     "name": "#%%\n"
    }
   }
  },
  {
   "cell_type": "code",
   "execution_count": 34,
   "outputs": [
    {
     "data": {
      "text/plain": "0.5420161465061012"
     },
     "execution_count": 34,
     "metadata": {},
     "output_type": "execute_result"
    }
   ],
   "source": [
    "p_value"
   ],
   "metadata": {
    "collapsed": false,
    "pycharm": {
     "name": "#%%\n"
    }
   }
  },
  {
   "cell_type": "markdown",
   "source": [
    "Поскольку значение p_value > 0,05, мы не можем опровергнуть нулевую гипотезу и предположим, что переменные не зависят друг от друга"
   ],
   "metadata": {
    "collapsed": false
   }
  },
  {
   "cell_type": "code",
   "execution_count": 35,
   "outputs": [],
   "source": [
    "df_country_group = df_active_users[['group', 'country']]"
   ],
   "metadata": {
    "collapsed": false,
    "pycharm": {
     "name": "#%%\n"
    }
   }
  },
  {
   "cell_type": "code",
   "execution_count": 36,
   "outputs": [
    {
     "data": {
      "text/plain": "group      A     B\ncountry           \nRussia   915  4492\nSweden   623  2311",
      "text/html": "<div>\n<style scoped>\n    .dataframe tbody tr th:only-of-type {\n        vertical-align: middle;\n    }\n\n    .dataframe tbody tr th {\n        vertical-align: top;\n    }\n\n    .dataframe thead th {\n        text-align: right;\n    }\n</style>\n<table border=\"1\" class=\"dataframe\">\n  <thead>\n    <tr style=\"text-align: right;\">\n      <th>group</th>\n      <th>A</th>\n      <th>B</th>\n    </tr>\n    <tr>\n      <th>country</th>\n      <th></th>\n      <th></th>\n    </tr>\n  </thead>\n  <tbody>\n    <tr>\n      <th>Russia</th>\n      <td>915</td>\n      <td>4492</td>\n    </tr>\n    <tr>\n      <th>Sweden</th>\n      <td>623</td>\n      <td>2311</td>\n    </tr>\n  </tbody>\n</table>\n</div>"
     },
     "execution_count": 36,
     "metadata": {},
     "output_type": "execute_result"
    }
   ],
   "source": [
    "crosst_group_country = pd.crosstab(df_country_group.country, df_country_group.group)\n",
    "crosst_group_country"
   ],
   "metadata": {
    "collapsed": false,
    "pycharm": {
     "name": "#%%\n"
    }
   }
  },
  {
   "cell_type": "code",
   "execution_count": 37,
   "outputs": [],
   "source": [
    "value = np.array([crosst_group_country.iloc[0].values,\n",
    "                  crosst_group_country.iloc[1].values])"
   ],
   "metadata": {
    "collapsed": false,
    "pycharm": {
     "name": "#%%\n"
    }
   }
  },
  {
   "cell_type": "code",
   "execution_count": 38,
   "outputs": [],
   "source": [
    "_, p_value, _, _ = chi2_contingency(value)"
   ],
   "metadata": {
    "collapsed": false,
    "pycharm": {
     "name": "#%%\n"
    }
   }
  },
  {
   "cell_type": "code",
   "execution_count": 39,
   "outputs": [
    {
     "data": {
      "text/plain": "1.4440642250057943e-06"
     },
     "execution_count": 39,
     "metadata": {},
     "output_type": "execute_result"
    }
   ],
   "source": [
    "p_value"
   ],
   "metadata": {
    "collapsed": false,
    "pycharm": {
     "name": "#%%\n"
    }
   }
  },
  {
   "cell_type": "markdown",
   "source": [
    "Поскольку значение p_value < 0,05, мы можем опровергнуть нулевую гипотезу и предположим, что переменные зависят друг от друга"
   ],
   "metadata": {
    "collapsed": false,
    "pycharm": {
     "name": "#%% md\n"
    }
   }
  },
  {
   "cell_type": "markdown",
   "source": [
    "по результатам анализа разбиения активных пользователей на группы, можно сделать выводы что с разбиением по полу и платформе все хорошо. а по странам есть преобладание России в группах в разных пропорциях. в тестовой группе почти в 2 раза доля России больше. возможно пользователям из России больше понравилась новая система оплаты или по какой-то технической причине произошел перекос"
   ],
   "metadata": {
    "collapsed": false,
    "pycharm": {
     "name": "#%% md\n"
    }
   }
  },
  {
   "cell_type": "markdown",
   "source": [
    "Такое неравномерное разбиение по странам могло повлиять на результаты эксперимента. Проверим эту гипотезу позже"
   ],
   "metadata": {
    "collapsed": false,
    "pycharm": {
     "name": "#%% md\n"
    }
   }
  },
  {
   "cell_type": "markdown",
   "source": [
    "посмотрим описательные статистики в группах без 0 revenue"
   ],
   "metadata": {
    "collapsed": false,
    "pycharm": {
     "name": "#%% md\n"
    }
   }
  },
  {
   "cell_type": "code",
   "execution_count": 40,
   "outputs": [],
   "source": [
    "users_id_149 = df_users_149['user_id'].to_list()"
   ],
   "metadata": {
    "collapsed": false,
    "pycharm": {
     "name": "#%%\n"
    }
   }
  },
  {
   "cell_type": "code",
   "execution_count": 41,
   "outputs": [
    {
     "data": {
      "text/plain": "      revenue                                    \n        count    min         mean  median     max\ngroup                                            \nA          78  208.0   943.564103   596.0  3671.0\nB         314  207.0  1267.875796  1151.0  4660.0",
      "text/html": "<div>\n<style scoped>\n    .dataframe tbody tr th:only-of-type {\n        vertical-align: middle;\n    }\n\n    .dataframe tbody tr th {\n        vertical-align: top;\n    }\n\n    .dataframe thead tr th {\n        text-align: left;\n    }\n\n    .dataframe thead tr:last-of-type th {\n        text-align: right;\n    }\n</style>\n<table border=\"1\" class=\"dataframe\">\n  <thead>\n    <tr>\n      <th></th>\n      <th colspan=\"5\" halign=\"left\">revenue</th>\n    </tr>\n    <tr>\n      <th></th>\n      <th>count</th>\n      <th>min</th>\n      <th>mean</th>\n      <th>median</th>\n      <th>max</th>\n    </tr>\n    <tr>\n      <th>group</th>\n      <th></th>\n      <th></th>\n      <th></th>\n      <th></th>\n      <th></th>\n    </tr>\n  </thead>\n  <tbody>\n    <tr>\n      <th>A</th>\n      <td>78</td>\n      <td>208.0</td>\n      <td>943.564103</td>\n      <td>596.0</td>\n      <td>3671.0</td>\n    </tr>\n    <tr>\n      <th>B</th>\n      <td>314</td>\n      <td>207.0</td>\n      <td>1267.875796</td>\n      <td>1151.0</td>\n      <td>4660.0</td>\n    </tr>\n  </tbody>\n</table>\n</div>"
     },
     "execution_count": 41,
     "metadata": {},
     "output_type": "execute_result"
    }
   ],
   "source": [
    "df_describe = df.query('(revenue > 0) & (user_id not in @users_id_149)')\\\n",
    "                .groupby(['group'])\\\n",
    "                .agg({'revenue': ['count', 'min', 'mean', 'median', 'max']})\n",
    "df_describe"
   ],
   "metadata": {
    "collapsed": false,
    "pycharm": {
     "name": "#%%\n"
    }
   }
  },
  {
   "cell_type": "code",
   "execution_count": 42,
   "outputs": [
    {
     "data": {
      "text/plain": "25.57221783741121"
     },
     "execution_count": 42,
     "metadata": {},
     "output_type": "execute_result"
    }
   ],
   "source": [
    "(1267 - 943) / 1267 * 100"
   ],
   "metadata": {
    "collapsed": false,
    "pycharm": {
     "name": "#%%\n"
    }
   }
  },
  {
   "cell_type": "markdown",
   "source": [
    "средний чек вырос на 25%, случайный ли это результат проверим с помощью критерия манна-уитни"
   ],
   "metadata": {
    "collapsed": false,
    "pycharm": {
     "name": "#%% md\n"
    }
   }
  },
  {
   "cell_type": "markdown",
   "source": [
    "посмотрим на распределение revenue в группах без 149 неактивным пользователей и без 0 (т к их много и будет невидно распределение)"
   ],
   "metadata": {
    "collapsed": false
   }
  },
  {
   "cell_type": "code",
   "execution_count": 43,
   "outputs": [
    {
     "data": {
      "text/plain": "<AxesSubplot:xlabel='revenue', ylabel='Density'>"
     },
     "execution_count": 43,
     "metadata": {},
     "output_type": "execute_result"
    },
    {
     "data": {
      "text/plain": "<Figure size 720x360 with 1 Axes>",
      "image/png": "[encoded data removed]"
     },
     "metadata": {
      "needs_background": "light"
     },
     "output_type": "display_data"
    }
   ],
   "source": [
    "plt.figure(figsize=(10, 5))\n",
    "sns.distplot(\n",
    "    df.loc[(df['group'] == 'A') & (df['revenue'] > 0) & (~df['user_id'].isin(df_users_149['user_id']))]['revenue'],\n",
    "    bins=30)\n",
    "sns.distplot(\n",
    "    df.loc[(df['group'] == 'B') & (df['revenue'] > 0) & (~df['user_id'].isin(df_users_149['user_id']))]['revenue'],\n",
    "    bins=30)"
   ],
   "metadata": {
    "collapsed": false,
    "pycharm": {
     "name": "#%%\n"
    }
   }
  },
  {
   "cell_type": "markdown",
   "source": [
    "т к праспределения в группах не нормальны, то для их сравнения используем непараметрический критерий Манна-Уитни.\n",
    "За $H_0$ возьмем равенство распределений"
   ],
   "metadata": {
    "collapsed": false
   }
  },
  {
   "cell_type": "code",
   "execution_count": 44,
   "outputs": [
    {
     "data": {
      "text/plain": "MannwhitneyuResult(statistic=8961.0, pvalue=0.00023939080114586078)"
     },
     "execution_count": 44,
     "metadata": {},
     "output_type": "execute_result"
    }
   ],
   "source": [
    "mannwhitneyu(\n",
    "    df.loc[(df['group'] == 'A') & (df['revenue'] > 0) & (~df['user_id'].isin(df_users_149['user_id']))]['revenue'],\n",
    "    df.loc[(df['group'] == 'B') & (df['revenue'] > 0) & (~df['user_id'].isin(df_users_149['user_id']))]['revenue'])"
   ],
   "metadata": {
    "collapsed": false,
    "pycharm": {
     "name": "#%%\n"
    }
   }
  },
  {
   "cell_type": "markdown",
   "source": [
    "полученное значение *p_value* < 0.05, значит мы может отклонить нашу гипотезу $H_0$\n",
    "следовательно, есть статистически значимые различия распределений"
   ],
   "metadata": {
    "collapsed": false
   }
  },
  {
   "cell_type": "markdown",
   "source": [
    "посмотрим на распределения по группам 149 пользователей, которые заплатили, но не оказались в списке активных"
   ],
   "metadata": {
    "collapsed": false
   }
  },
  {
   "cell_type": "code",
   "source": [
    "plt.figure(figsize=(10, 5))\n",
    "sns.distplot(df.loc[(df['group'] == 'A') & (df['user_id'].isin(df_users_149['user_id']))]['revenue'],\n",
    "             bins=30)\n",
    "sns.distplot(df.loc[(df['group'] == 'B') & (df['user_id'].isin(df_users_149['user_id']))]['revenue'],\n",
    "             bins=30)"
   ],
   "metadata": {
    "collapsed": false,
    "pycharm": {
     "name": "#%%\n"
    }
   },
   "execution_count": 45,
   "outputs": [
    {
     "data": {
      "text/plain": "<AxesSubplot:xlabel='revenue', ylabel='Density'>"
     },
     "execution_count": 45,
     "metadata": {},
     "output_type": "execute_result"
    },
    {
     "data": {
      "text/plain": "<Figure size 720x360 with 1 Axes>",
      "image/png": "[encoded data removed]"
     },
     "metadata": {
      "needs_background": "light"
     },
     "output_type": "display_data"
    }
   ]
  },
  {
   "cell_type": "markdown",
   "source": [
    "распределения кажутся очень похожими, возможно это какие-то автоматические платежи (типа подписок)\n",
    "проверим гипотезу о равенстве этих распределений по критерию манна-уитни"
   ],
   "metadata": {
    "collapsed": false
   }
  },
  {
   "cell_type": "code",
   "execution_count": 46,
   "outputs": [
    {
     "data": {
      "text/plain": "MannwhitneyuResult(statistic=1943.5, pvalue=0.32858504025883084)"
     },
     "execution_count": 46,
     "metadata": {},
     "output_type": "execute_result"
    }
   ],
   "source": [
    "mannwhitneyu(df.loc[(df['group'] == 'B') & (df['user_id'].isin(df_users_149['user_id']))]['revenue'],\n",
    "             df.loc[(df['group'] == 'A') & (df['user_id'].isin(df_users_149['user_id']))]['revenue'])"
   ],
   "metadata": {
    "collapsed": false,
    "pycharm": {
     "name": "#%%\n"
    }
   }
  },
  {
   "cell_type": "markdown",
   "source": [
    "p_value > 0.05, значит нет достаточных оснований отклонить гипотезу о равенстве распределений\n",
    "вероятно это автоматические платежи, которые никак не зависят от эксперимента"
   ],
   "metadata": {
    "collapsed": false,
    "pycharm": {
     "name": "#%% md\n"
    }
   }
  },
  {
   "cell_type": "markdown",
   "source": [
    "чтобы понять какие еще метрики изменились по группам, посчитаем ARPU (средний доход на пользователя), ARPPU (средний доход на платящего пользователя)"
   ],
   "metadata": {
    "collapsed": false,
    "pycharm": {
     "name": "#%% md\n"
    }
   }
  },
  {
   "cell_type": "code",
   "execution_count": 47,
   "outputs": [
    {
     "data": {
      "text/plain": "  group  user_id\n0     A    14693\n1     B    59883",
      "text/html": "<div>\n<style scoped>\n    .dataframe tbody tr th:only-of-type {\n        vertical-align: middle;\n    }\n\n    .dataframe tbody tr th {\n        vertical-align: top;\n    }\n\n    .dataframe thead th {\n        text-align: right;\n    }\n</style>\n<table border=\"1\" class=\"dataframe\">\n  <thead>\n    <tr style=\"text-align: right;\">\n      <th></th>\n      <th>group</th>\n      <th>user_id</th>\n    </tr>\n  </thead>\n  <tbody>\n    <tr>\n      <th>0</th>\n      <td>A</td>\n      <td>14693</td>\n    </tr>\n    <tr>\n      <th>1</th>\n      <td>B</td>\n      <td>59883</td>\n    </tr>\n  </tbody>\n</table>\n</div>"
     },
     "execution_count": 47,
     "metadata": {},
     "output_type": "execute_result"
    }
   ],
   "source": [
    "# количество всех пользователей по группам\n",
    "count_users_by_group = df.groupby('group', as_index=False)\\\n",
    "                         .agg({'user_id': 'count'})\n",
    "count_users_by_group"
   ],
   "metadata": {
    "collapsed": false,
    "pycharm": {
     "name": "#%%\n"
    }
   }
  },
  {
   "cell_type": "code",
   "execution_count": 48,
   "outputs": [
    {
     "data": {
      "text/plain": "  group  user_id\n0     A      107\n1     B      434",
      "text/html": "<div>\n<style scoped>\n    .dataframe tbody tr th:only-of-type {\n        vertical-align: middle;\n    }\n\n    .dataframe tbody tr th {\n        vertical-align: top;\n    }\n\n    .dataframe thead th {\n        text-align: right;\n    }\n</style>\n<table border=\"1\" class=\"dataframe\">\n  <thead>\n    <tr style=\"text-align: right;\">\n      <th></th>\n      <th>group</th>\n      <th>user_id</th>\n    </tr>\n  </thead>\n  <tbody>\n    <tr>\n      <th>0</th>\n      <td>A</td>\n      <td>107</td>\n    </tr>\n    <tr>\n      <th>1</th>\n      <td>B</td>\n      <td>434</td>\n    </tr>\n  </tbody>\n</table>\n</div>"
     },
     "execution_count": 48,
     "metadata": {},
     "output_type": "execute_result"
    }
   ],
   "source": [
    "count_pay_users_by_group = df.loc[df['revenue'] > 0]\\\n",
    "                             .groupby('group', as_index=False)\\\n",
    "                             .agg({'user_id': 'count'})\n",
    "count_pay_users_by_group"
   ],
   "metadata": {
    "collapsed": false,
    "pycharm": {
     "name": "#%%\n"
    }
   }
  },
  {
   "cell_type": "code",
   "execution_count": 49,
   "outputs": [
    {
     "data": {
      "text/plain": "  group   revenue\n0     A   93162.0\n1     B  485575.0",
      "text/html": "<div>\n<style scoped>\n    .dataframe tbody tr th:only-of-type {\n        vertical-align: middle;\n    }\n\n    .dataframe tbody tr th {\n        vertical-align: top;\n    }\n\n    .dataframe thead th {\n        text-align: right;\n    }\n</style>\n<table border=\"1\" class=\"dataframe\">\n  <thead>\n    <tr style=\"text-align: right;\">\n      <th></th>\n      <th>group</th>\n      <th>revenue</th>\n    </tr>\n  </thead>\n  <tbody>\n    <tr>\n      <th>0</th>\n      <td>A</td>\n      <td>93162.0</td>\n    </tr>\n    <tr>\n      <th>1</th>\n      <td>B</td>\n      <td>485575.0</td>\n    </tr>\n  </tbody>\n</table>\n</div>"
     },
     "execution_count": 49,
     "metadata": {},
     "output_type": "execute_result"
    }
   ],
   "source": [
    "sum_pay_by_group = df.groupby('group', as_index=False)\\\n",
    "                     .agg({'revenue': 'sum'})\n",
    "sum_pay_by_group"
   ],
   "metadata": {
    "collapsed": false,
    "pycharm": {
     "name": "#%%\n"
    }
   }
  },
  {
   "cell_type": "code",
   "source": [
    "sum_pay_by_group['ARPU'] = sum_pay_by_group['revenue'] / count_users_by_group['user_id']\n",
    "sum_pay_by_group['ARPPU'] = sum_pay_by_group['revenue'] / count_pay_users_by_group['user_id']\n",
    "sum_pay_by_group"
   ],
   "metadata": {
    "collapsed": false,
    "pycharm": {
     "name": "#%%\n"
    }
   },
   "execution_count": 50,
   "outputs": [
    {
     "data": {
      "text/plain": "  group   revenue      ARPU        ARPPU\n0     A   93162.0  6.340570   870.672897\n1     B  485575.0  8.108729  1118.836406",
      "text/html": "<div>\n<style scoped>\n    .dataframe tbody tr th:only-of-type {\n        vertical-align: middle;\n    }\n\n    .dataframe tbody tr th {\n        vertical-align: top;\n    }\n\n    .dataframe thead th {\n        text-align: right;\n    }\n</style>\n<table border=\"1\" class=\"dataframe\">\n  <thead>\n    <tr style=\"text-align: right;\">\n      <th></th>\n      <th>group</th>\n      <th>revenue</th>\n      <th>ARPU</th>\n      <th>ARPPU</th>\n    </tr>\n  </thead>\n  <tbody>\n    <tr>\n      <th>0</th>\n      <td>A</td>\n      <td>93162.0</td>\n      <td>6.340570</td>\n      <td>870.672897</td>\n    </tr>\n    <tr>\n      <th>1</th>\n      <td>B</td>\n      <td>485575.0</td>\n      <td>8.108729</td>\n      <td>1118.836406</td>\n    </tr>\n  </tbody>\n</table>\n</div>"
     },
     "execution_count": 50,
     "metadata": {},
     "output_type": "execute_result"
    }
   ]
  },
  {
   "cell_type": "code",
   "execution_count": 51,
   "outputs": [
    {
     "data": {
      "text/plain": "21.80561733052256"
     },
     "execution_count": 51,
     "metadata": {},
     "output_type": "execute_result"
    }
   ],
   "source": [
    "(sum_pay_by_group.query('group == \"B\"').values[0][2] - sum_pay_by_group.query('group == \"A\"').values[0][2])\\\n",
    "    / (sum_pay_by_group.query('group == \"B\"').values[0][2]) * 100"
   ],
   "metadata": {
    "collapsed": false,
    "pycharm": {
     "name": "#%%\n"
    }
   }
  },
  {
   "cell_type": "code",
   "execution_count": 52,
   "outputs": [
    {
     "data": {
      "text/plain": "22.180499946830544"
     },
     "execution_count": 52,
     "metadata": {},
     "output_type": "execute_result"
    }
   ],
   "source": [
    "(sum_pay_by_group.query('group == \"B\"').values[0][3] - sum_pay_by_group.query('group == \"A\"').values[0][3]) \\\n",
    "    / (sum_pay_by_group.query('group == \"B\"').values[0][3]) * 100"
   ],
   "metadata": {
    "collapsed": false,
    "pycharm": {
     "name": "#%%\n"
    }
   }
  },
  {
   "cell_type": "markdown",
   "source": [
    "ARPU и ARPPU выросли примерно на 22% в тестовой группе"
   ],
   "metadata": {
    "collapsed": false,
    "pycharm": {
     "name": "#%% md\n"
    }
   }
  },
  {
   "cell_type": "markdown",
   "source": [
    "посчитаем конверсии в группах"
   ],
   "metadata": {
    "collapsed": false,
    "pycharm": {
     "name": "#%% md\n"
    }
   }
  },
  {
   "cell_type": "code",
   "execution_count": 53,
   "outputs": [
    {
     "data": {
      "text/plain": "   user_id group     country    platform         sex  revenue     CR\n0     9149     B  нет данных  нет данных  нет данных      0.0  False\n1     9150     B  нет данных  нет данных  нет данных      0.0  False\n2     9151     A  нет данных  нет данных  нет данных      0.0  False\n3     9152     B  нет данных  нет данных  нет данных      0.0  False\n4     9153     B  нет данных  нет данных  нет данных      0.0  False",
      "text/html": "<div>\n<style scoped>\n    .dataframe tbody tr th:only-of-type {\n        vertical-align: middle;\n    }\n\n    .dataframe tbody tr th {\n        vertical-align: top;\n    }\n\n    .dataframe thead th {\n        text-align: right;\n    }\n</style>\n<table border=\"1\" class=\"dataframe\">\n  <thead>\n    <tr style=\"text-align: right;\">\n      <th></th>\n      <th>user_id</th>\n      <th>group</th>\n      <th>country</th>\n      <th>platform</th>\n      <th>sex</th>\n      <th>revenue</th>\n      <th>CR</th>\n    </tr>\n  </thead>\n  <tbody>\n    <tr>\n      <th>0</th>\n      <td>9149</td>\n      <td>B</td>\n      <td>нет данных</td>\n      <td>нет данных</td>\n      <td>нет данных</td>\n      <td>0.0</td>\n      <td>False</td>\n    </tr>\n    <tr>\n      <th>1</th>\n      <td>9150</td>\n      <td>B</td>\n      <td>нет данных</td>\n      <td>нет данных</td>\n      <td>нет данных</td>\n      <td>0.0</td>\n      <td>False</td>\n    </tr>\n    <tr>\n      <th>2</th>\n      <td>9151</td>\n      <td>A</td>\n      <td>нет данных</td>\n      <td>нет данных</td>\n      <td>нет данных</td>\n      <td>0.0</td>\n      <td>False</td>\n    </tr>\n    <tr>\n      <th>3</th>\n      <td>9152</td>\n      <td>B</td>\n      <td>нет данных</td>\n      <td>нет данных</td>\n      <td>нет данных</td>\n      <td>0.0</td>\n      <td>False</td>\n    </tr>\n    <tr>\n      <th>4</th>\n      <td>9153</td>\n      <td>B</td>\n      <td>нет данных</td>\n      <td>нет данных</td>\n      <td>нет данных</td>\n      <td>0.0</td>\n      <td>False</td>\n    </tr>\n  </tbody>\n</table>\n</div>"
     },
     "execution_count": 53,
     "metadata": {},
     "output_type": "execute_result"
    }
   ],
   "source": [
    "df['CR'] = df['revenue'] > 0\n",
    "df.head()"
   ],
   "metadata": {
    "collapsed": false,
    "pycharm": {
     "name": "#%%\n"
    }
   }
  },
  {
   "cell_type": "markdown",
   "source": [
    "Посчитаем конверсию воронкой: все пользователи группы -> активные пользователи (и их доля от всех пользователей) -> платящие пользователи (и их доля от активных пользователей)\n",
    "А наличие разницы в конверсиях по группам оценим статистически по хи-квадртат Пирсона."
   ],
   "metadata": {
    "collapsed": false,
    "pycharm": {
     "name": "#%% md\n"
    }
   }
  },
  {
   "cell_type": "code",
   "execution_count": 58,
   "outputs": [
    {
     "data": {
      "text/plain": "   user_id group     country    platform         sex  revenue     CR  \\\n0     9149     B  нет данных  нет данных  нет данных      0.0  False   \n1     9150     B  нет данных  нет данных  нет данных      0.0  False   \n2     9151     A  нет данных  нет данных  нет данных      0.0  False   \n3     9152     B  нет данных  нет данных  нет данных      0.0  False   \n4     9153     B  нет данных  нет данных  нет данных      0.0  False   \n\n   CR_active  \n0      False  \n1      False  \n2      False  \n3      False  \n4      False  ",
      "text/html": "<div>\n<style scoped>\n    .dataframe tbody tr th:only-of-type {\n        vertical-align: middle;\n    }\n\n    .dataframe tbody tr th {\n        vertical-align: top;\n    }\n\n    .dataframe thead th {\n        text-align: right;\n    }\n</style>\n<table border=\"1\" class=\"dataframe\">\n  <thead>\n    <tr style=\"text-align: right;\">\n      <th></th>\n      <th>user_id</th>\n      <th>group</th>\n      <th>country</th>\n      <th>platform</th>\n      <th>sex</th>\n      <th>revenue</th>\n      <th>CR</th>\n      <th>CR_active</th>\n    </tr>\n  </thead>\n  <tbody>\n    <tr>\n      <th>0</th>\n      <td>9149</td>\n      <td>B</td>\n      <td>нет данных</td>\n      <td>нет данных</td>\n      <td>нет данных</td>\n      <td>0.0</td>\n      <td>False</td>\n      <td>False</td>\n    </tr>\n    <tr>\n      <th>1</th>\n      <td>9150</td>\n      <td>B</td>\n      <td>нет данных</td>\n      <td>нет данных</td>\n      <td>нет данных</td>\n      <td>0.0</td>\n      <td>False</td>\n      <td>False</td>\n    </tr>\n    <tr>\n      <th>2</th>\n      <td>9151</td>\n      <td>A</td>\n      <td>нет данных</td>\n      <td>нет данных</td>\n      <td>нет данных</td>\n      <td>0.0</td>\n      <td>False</td>\n      <td>False</td>\n    </tr>\n    <tr>\n      <th>3</th>\n      <td>9152</td>\n      <td>B</td>\n      <td>нет данных</td>\n      <td>нет данных</td>\n      <td>нет данных</td>\n      <td>0.0</td>\n      <td>False</td>\n      <td>False</td>\n    </tr>\n    <tr>\n      <th>4</th>\n      <td>9153</td>\n      <td>B</td>\n      <td>нет данных</td>\n      <td>нет данных</td>\n      <td>нет данных</td>\n      <td>0.0</td>\n      <td>False</td>\n      <td>False</td>\n    </tr>\n  </tbody>\n</table>\n</div>"
     },
     "execution_count": 58,
     "metadata": {},
     "output_type": "execute_result"
    }
   ],
   "source": [
    "df['CR_active'] = df['country'] != 'нет данных'\n",
    "df.head()"
   ],
   "metadata": {
    "collapsed": false,
    "pycharm": {
     "name": "#%%\n"
    }
   }
  },
  {
   "cell_type": "code",
   "execution_count": 59,
   "outputs": [
    {
     "data": {
      "text/plain": "   user_id group     country    platform         sex  revenue     CR  \\\n0     9149     B  нет данных  нет данных  нет данных      0.0  False   \n1     9150     B  нет данных  нет данных  нет данных      0.0  False   \n2     9151     A  нет данных  нет данных  нет данных      0.0  False   \n3     9152     B  нет данных  нет данных  нет данных      0.0  False   \n4     9153     B  нет данных  нет данных  нет данных      0.0  False   \n\n   CR_active  all_users  \n0      False       True  \n1      False       True  \n2      False       True  \n3      False       True  \n4      False       True  ",
      "text/html": "<div>\n<style scoped>\n    .dataframe tbody tr th:only-of-type {\n        vertical-align: middle;\n    }\n\n    .dataframe tbody tr th {\n        vertical-align: top;\n    }\n\n    .dataframe thead th {\n        text-align: right;\n    }\n</style>\n<table border=\"1\" class=\"dataframe\">\n  <thead>\n    <tr style=\"text-align: right;\">\n      <th></th>\n      <th>user_id</th>\n      <th>group</th>\n      <th>country</th>\n      <th>platform</th>\n      <th>sex</th>\n      <th>revenue</th>\n      <th>CR</th>\n      <th>CR_active</th>\n      <th>all_users</th>\n    </tr>\n  </thead>\n  <tbody>\n    <tr>\n      <th>0</th>\n      <td>9149</td>\n      <td>B</td>\n      <td>нет данных</td>\n      <td>нет данных</td>\n      <td>нет данных</td>\n      <td>0.0</td>\n      <td>False</td>\n      <td>False</td>\n      <td>True</td>\n    </tr>\n    <tr>\n      <th>1</th>\n      <td>9150</td>\n      <td>B</td>\n      <td>нет данных</td>\n      <td>нет данных</td>\n      <td>нет данных</td>\n      <td>0.0</td>\n      <td>False</td>\n      <td>False</td>\n      <td>True</td>\n    </tr>\n    <tr>\n      <th>2</th>\n      <td>9151</td>\n      <td>A</td>\n      <td>нет данных</td>\n      <td>нет данных</td>\n      <td>нет данных</td>\n      <td>0.0</td>\n      <td>False</td>\n      <td>False</td>\n      <td>True</td>\n    </tr>\n    <tr>\n      <th>3</th>\n      <td>9152</td>\n      <td>B</td>\n      <td>нет данных</td>\n      <td>нет данных</td>\n      <td>нет данных</td>\n      <td>0.0</td>\n      <td>False</td>\n      <td>False</td>\n      <td>True</td>\n    </tr>\n    <tr>\n      <th>4</th>\n      <td>9153</td>\n      <td>B</td>\n      <td>нет данных</td>\n      <td>нет данных</td>\n      <td>нет данных</td>\n      <td>0.0</td>\n      <td>False</td>\n      <td>False</td>\n      <td>True</td>\n    </tr>\n  </tbody>\n</table>\n</div>"
     },
     "execution_count": 59,
     "metadata": {},
     "output_type": "execute_result"
    }
   ],
   "source": [
    "df['all_users'] = True\n",
    "df.head()"
   ],
   "metadata": {
    "collapsed": false,
    "pycharm": {
     "name": "#%%\n"
    }
   }
  },
  {
   "cell_type": "code",
   "execution_count": 61,
   "outputs": [
    {
     "data": {
      "text/plain": "  group  all_users  CR_active   CR\n0     A      14693       1538  107\n1     B      59883       6803  434",
      "text/html": "<div>\n<style scoped>\n    .dataframe tbody tr th:only-of-type {\n        vertical-align: middle;\n    }\n\n    .dataframe tbody tr th {\n        vertical-align: top;\n    }\n\n    .dataframe thead th {\n        text-align: right;\n    }\n</style>\n<table border=\"1\" class=\"dataframe\">\n  <thead>\n    <tr style=\"text-align: right;\">\n      <th></th>\n      <th>group</th>\n      <th>all_users</th>\n      <th>CR_active</th>\n      <th>CR</th>\n    </tr>\n  </thead>\n  <tbody>\n    <tr>\n      <th>0</th>\n      <td>A</td>\n      <td>14693</td>\n      <td>1538</td>\n      <td>107</td>\n    </tr>\n    <tr>\n      <th>1</th>\n      <td>B</td>\n      <td>59883</td>\n      <td>6803</td>\n      <td>434</td>\n    </tr>\n  </tbody>\n</table>\n</div>"
     },
     "execution_count": 61,
     "metadata": {},
     "output_type": "execute_result"
    }
   ],
   "source": [
    "df_CR = df.groupby('group', as_index=False)\\\n",
    "          .agg({'all_users': 'sum',\n",
    "                'CR_active': 'sum',\n",
    "                'CR': 'sum'})\n",
    "df_CR"
   ],
   "metadata": {
    "collapsed": false,
    "pycharm": {
     "name": "#%%\n"
    }
   }
  },
  {
   "cell_type": "code",
   "execution_count": 65,
   "outputs": [
    {
     "data": {
      "text/plain": "  group  all_users  CR_active  CR_active_relative   CR  CR_relative\n0     A      14693       1538           10.467570  107     6.957087\n1     B      59883       6803           11.360486  434     6.379538",
      "text/html": "<div>\n<style scoped>\n    .dataframe tbody tr th:only-of-type {\n        vertical-align: middle;\n    }\n\n    .dataframe tbody tr th {\n        vertical-align: top;\n    }\n\n    .dataframe thead th {\n        text-align: right;\n    }\n</style>\n<table border=\"1\" class=\"dataframe\">\n  <thead>\n    <tr style=\"text-align: right;\">\n      <th></th>\n      <th>group</th>\n      <th>all_users</th>\n      <th>CR_active</th>\n      <th>CR_active_relative</th>\n      <th>CR</th>\n      <th>CR_relative</th>\n    </tr>\n  </thead>\n  <tbody>\n    <tr>\n      <th>0</th>\n      <td>A</td>\n      <td>14693</td>\n      <td>1538</td>\n      <td>10.467570</td>\n      <td>107</td>\n      <td>6.957087</td>\n    </tr>\n    <tr>\n      <th>1</th>\n      <td>B</td>\n      <td>59883</td>\n      <td>6803</td>\n      <td>11.360486</td>\n      <td>434</td>\n      <td>6.379538</td>\n    </tr>\n  </tbody>\n</table>\n</div>"
     },
     "execution_count": 65,
     "metadata": {},
     "output_type": "execute_result"
    }
   ],
   "source": [
    "df_CR['CR_active_relative'] = df_CR['CR_active'] / df_CR['all_users'] * 100\n",
    "df_CR['CR_relative'] = df_CR['CR'] / df_CR['CR_active'] * 100\n",
    "df_CR[['group', 'all_users', 'CR_active', 'CR_active_relative', 'CR', 'CR_relative']]"
   ],
   "metadata": {
    "collapsed": false,
    "pycharm": {
     "name": "#%%\n"
    }
   }
  },
  {
   "cell_type": "markdown",
   "source": [
    "кажется, что конверсия в группах несильно изменилась, проверим эту гипотезу с помощью критерия хи-квадрат Пирсона"
   ],
   "metadata": {
    "collapsed": false
   }
  },
  {
   "cell_type": "code",
   "execution_count": 66,
   "outputs": [],
   "source": [
    "df_CR_group = df[['group', 'CR']]"
   ],
   "metadata": {
    "collapsed": false,
    "pycharm": {
     "name": "#%%\n"
    }
   }
  },
  {
   "cell_type": "code",
   "execution_count": 67,
   "outputs": [
    {
     "data": {
      "text/plain": "group      A      B\nCR                 \nFalse  14586  59449\nTrue     107    434",
      "text/html": "<div>\n<style scoped>\n    .dataframe tbody tr th:only-of-type {\n        vertical-align: middle;\n    }\n\n    .dataframe tbody tr th {\n        vertical-align: top;\n    }\n\n    .dataframe thead th {\n        text-align: right;\n    }\n</style>\n<table border=\"1\" class=\"dataframe\">\n  <thead>\n    <tr style=\"text-align: right;\">\n      <th>group</th>\n      <th>A</th>\n      <th>B</th>\n    </tr>\n    <tr>\n      <th>CR</th>\n      <th></th>\n      <th></th>\n    </tr>\n  </thead>\n  <tbody>\n    <tr>\n      <th>False</th>\n      <td>14586</td>\n      <td>59449</td>\n    </tr>\n    <tr>\n      <th>True</th>\n      <td>107</td>\n      <td>434</td>\n    </tr>\n  </tbody>\n</table>\n</div>"
     },
     "execution_count": 67,
     "metadata": {},
     "output_type": "execute_result"
    }
   ],
   "source": [
    "crosst_group_CR = pd.crosstab(df_CR_group.CR, df_CR_group.group)\n",
    "crosst_group_CR"
   ],
   "metadata": {
    "collapsed": false,
    "pycharm": {
     "name": "#%%\n"
    }
   }
  },
  {
   "cell_type": "code",
   "execution_count": 68,
   "outputs": [],
   "source": [
    "value = np.array([crosst_group_CR.iloc[0].values,\n",
    "                  crosst_group_CR.iloc[1].values])"
   ],
   "metadata": {
    "collapsed": false,
    "pycharm": {
     "name": "#%%\n"
    }
   }
  },
  {
   "cell_type": "code",
   "execution_count": 69,
   "outputs": [],
   "source": [
    "_, p_value, _, _ = chi2_contingency(value)"
   ],
   "metadata": {
    "collapsed": false,
    "pycharm": {
     "name": "#%%\n"
    }
   }
  },
  {
   "cell_type": "code",
   "execution_count": 70,
   "outputs": [
    {
     "data": {
      "text/plain": "1.0"
     },
     "execution_count": 70,
     "metadata": {},
     "output_type": "execute_result"
    }
   ],
   "source": [
    "p_value"
   ],
   "metadata": {
    "collapsed": false,
    "pycharm": {
     "name": "#%%\n"
    }
   }
  },
  {
   "cell_type": "markdown",
   "source": [
    "Поскольку значение p_value > 0,05, мы не можем опровергнуть нулевую гипотезу и приминаем различия в конверсии статисчитчески незначимыми"
   ],
   "metadata": {
    "collapsed": false
   }
  },
  {
   "cell_type": "code",
   "execution_count": null,
   "outputs": [],
   "source": [],
   "metadata": {
    "collapsed": false,
    "pycharm": {
     "name": "#%%\n"
    }
   }
  },
  {
   "cell_type": "markdown",
   "source": [
    "Т к выше обнаружено, что разбиение на группы по странам неравномерное, то сравним отдельно распределения по странам в группах"
   ],
   "metadata": {
    "collapsed": false
   }
  },
  {
   "cell_type": "code",
   "execution_count": 71,
   "outputs": [],
   "source": [
    "df_A_Russian = df.loc[(df['group'] == 'A')\n",
    "                      & (df['revenue'] > 0)\n",
    "                      & (~df['user_id'].isin(df_users_149['user_id']))\n",
    "                      & (df['country'] == 'Russia')]['revenue']\n",
    "df_A_Sweden = df.loc[(df['group'] == 'A')\n",
    "                     & (df['revenue'] > 0)\n",
    "                     & (~df['user_id'].isin(df_users_149['user_id']))\n",
    "                     & (df['country'] == 'Sweden')]['revenue']"
   ],
   "metadata": {
    "collapsed": false,
    "pycharm": {
     "name": "#%%\n"
    }
   }
  },
  {
   "cell_type": "code",
   "execution_count": 72,
   "outputs": [],
   "source": [
    "df_B_Russian = df.loc[(df['group'] == 'B')\n",
    "                      & (df['revenue'] > 0)\n",
    "                      & (~df['user_id'].isin(df_users_149['user_id']))\n",
    "                      & (df['country'] == 'Russia')]['revenue']\n",
    "df_B_Sweden = df.loc[(df['group'] == 'B')\n",
    "                     & (df['revenue'] > 0)\n",
    "                     & (~df['user_id'].isin(df_users_149['user_id']))\n",
    "                     & (df['country'] == 'Sweden')]['revenue']"
   ],
   "metadata": {
    "collapsed": false,
    "pycharm": {
     "name": "#%%\n"
    }
   }
  },
  {
   "cell_type": "code",
   "execution_count": 77,
   "outputs": [
    {
     "data": {
      "text/plain": "Text(0.5, 1.0, 'A-B Russia')"
     },
     "execution_count": 77,
     "metadata": {},
     "output_type": "execute_result"
    },
    {
     "data": {
      "text/plain": "<Figure size 720x360 with 1 Axes>",
      "image/png": "[encoded data removed]"
     },
     "metadata": {
      "needs_background": "light"
     },
     "output_type": "display_data"
    }
   ],
   "source": [
    "plt.figure(figsize=(10, 5))\n",
    "sns.distplot(\n",
    "    df_A_Russian,\n",
    "    bins=30)\n",
    "sns.distplot(\n",
    "    df_B_Russian,\n",
    "    bins=30)\n",
    "plt.title('A-B Russia')"
   ],
   "metadata": {
    "collapsed": false,
    "pycharm": {
     "name": "#%%\n"
    }
   }
  },
  {
   "cell_type": "code",
   "execution_count": 78,
   "outputs": [
    {
     "data": {
      "text/plain": "Text(0.5, 1.0, 'A-B Sweden')"
     },
     "execution_count": 78,
     "metadata": {},
     "output_type": "execute_result"
    },
    {
     "data": {
      "text/plain": "<Figure size 720x360 with 1 Axes>",
      "image/png": "[encoded data removed]"
     },
     "metadata": {
      "needs_background": "light"
     },
     "output_type": "display_data"
    }
   ],
   "source": [
    "plt.figure(figsize=(10, 5))\n",
    "sns.distplot(\n",
    "    df_A_Sweden,\n",
    "    bins=30)\n",
    "sns.distplot(\n",
    "    df_B_Sweden,\n",
    "    bins=30)\n",
    "plt.title('A-B Sweden')"
   ],
   "metadata": {
    "collapsed": false,
    "pycharm": {
     "name": "#%%\n"
    }
   }
  },
  {
   "cell_type": "markdown",
   "source": [
    "Проверим по Манна-Уитни является ли разница распределений юзеров из России статзначима"
   ],
   "metadata": {
    "collapsed": false,
    "pycharm": {
     "name": "#%% md\n"
    }
   }
  },
  {
   "cell_type": "code",
   "execution_count": 79,
   "outputs": [
    {
     "data": {
      "text/plain": "MannwhitneyuResult(statistic=2925.5, pvalue=0.0014699816493472517)"
     },
     "execution_count": 79,
     "metadata": {},
     "output_type": "execute_result"
    }
   ],
   "source": [
    "mannwhitneyu(\n",
    "    df_A_Russian,\n",
    "    df_B_Russian)"
   ],
   "metadata": {
    "collapsed": false,
    "pycharm": {
     "name": "#%%\n"
    }
   }
  },
  {
   "cell_type": "markdown",
   "source": [
    "полученное значение *p_value* < 0.05, значит мы может отклонить нашу гипотезу $H_0$\n",
    "следовательно, есть статистически значимые различия распределений"
   ],
   "metadata": {
    "collapsed": false
   }
  },
  {
   "cell_type": "markdown",
   "source": [
    "Проверим по Манна-Уитни является ли разница распределений юзеров из Швеции статзначима"
   ],
   "metadata": {
    "collapsed": false
   }
  },
  {
   "cell_type": "code",
   "execution_count": 74,
   "outputs": [
    {
     "data": {
      "text/plain": "MannwhitneyuResult(statistic=1577.5, pvalue=0.03958280081671394)"
     },
     "execution_count": 74,
     "metadata": {},
     "output_type": "execute_result"
    }
   ],
   "source": [
    "mannwhitneyu(\n",
    "    df_A_Sweden,\n",
    "    df_B_Sweden)"
   ],
   "metadata": {
    "collapsed": false,
    "pycharm": {
     "name": "#%%\n"
    }
   }
  },
  {
   "cell_type": "markdown",
   "source": [
    "полученное значение *p_value* < 0.05, значит мы может отклонить нашу гипотезу $H_0$\n",
    "следовательно, есть статистически значимые различия распределений"
   ],
   "metadata": {
    "collapsed": false
   }
  },
  {
   "cell_type": "markdown",
   "source": [
    "# Выводы\n",
    "стоит выкатывать изменение!\n",
    "- средний чек увеличился на 25%\n",
    "- ARPU и ARPPU выросли примерно на 22%"
   ],
   "metadata": {
    "collapsed": false,
    "pycharm": {
     "name": "#%% md\n"
    }
   }
  },
  {
   "cell_type": "markdown",
   "source": [
    "### Задание 2\n",
    "Одной из основных задач аналитика является не только построение моделей, но и создание дашбордов, которые позволяют отслеживать изменения метрик и принимать на их основе оптимальные решения. Ваш руководитель хочет узнать, как обстоят дела с использованием приложения и вовлечённостью пользователей, и очень просит спроектировать ему дашборд."
   ],
   "metadata": {
    "collapsed": false,
    "pycharm": {
     "name": "#%% md\n"
    }
   }
  },
  {
   "cell_type": "markdown",
   "source": [
    "для 2го задания данных маловато. т к с точки зрения вовлеченности пользователей важно видеть DAU, MAU, retention, churn rate, длительность сессий и интервалы между, LTV"
   ],
   "metadata": {
    "collapsed": false,
    "pycharm": {
     "name": "#%% md\n"
    }
   }
  },
  {
   "cell_type": "code",
   "execution_count": 243,
   "outputs": [],
   "source": [
    "# сохраним данные в файл для проектирования дашборда\n",
    "df.to_csv('data_dash.csv', sep=';', index=False)"
   ],
   "metadata": {
    "collapsed": false,
    "pycharm": {
     "name": "#%%\n"
    }
   }
  },
  {
   "cell_type": "markdown",
   "source": [
    "https://public.tableau.com/app/profile/svetlana6055/viz/Dash_final_project_16498359580140/Dashboard1?publish=yes"
   ],
   "metadata": {
    "collapsed": false,
    "pycharm": {
     "name": "#%% md\n"
    }
   }
  }
 ],
 "metadata": {
  "kernelspec": {
   "display_name": "Python 3",
   "language": "python",
   "name": "python3"
  },
  "language_info": {
   "codemirror_mode": {
    "name": "ipython",
    "version": 2
   },
   "file_extension": ".py",
   "mimetype": "text/x-python",
   "name": "python",
   "nbconvert_exporter": "python",
   "pygments_lexer": "ipython2",
   "version": "2.7.6"
  }
 },
 "nbformat": 4,
 "nbformat_minor": 0
}